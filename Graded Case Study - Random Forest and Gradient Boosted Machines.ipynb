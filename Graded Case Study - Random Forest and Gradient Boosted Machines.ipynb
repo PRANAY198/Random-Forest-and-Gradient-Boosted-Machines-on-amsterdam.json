{
 "cells": [
  {
   "cell_type": "code",
   "execution_count": 1,
   "id": "19b41dad",
   "metadata": {},
   "outputs": [],
   "source": [
    "import pandas as pd\n",
    "import numpy as np\n",
    "import matplotlib.pyplot as plt\n",
    "%matplotlib inline\n",
    "import seaborn as sns"
   ]
  },
  {
   "cell_type": "code",
   "execution_count": 2,
   "id": "bb3e8c45",
   "metadata": {},
   "outputs": [],
   "source": [
    "ams=pd.read_json(r\"C:\\Users\\PRANAY\\Documents\\FULL STACK DATA SCIENCE jigsaw document\\machine learning\\Datasets-1\\Datasets\\amsterdam.json\")"
   ]
  },
  {
   "cell_type": "code",
   "execution_count": 3,
   "id": "57c7b45b",
   "metadata": {},
   "outputs": [
    {
     "data": {
      "text/html": [
       "<div>\n",
       "<style scoped>\n",
       "    .dataframe tbody tr th:only-of-type {\n",
       "        vertical-align: middle;\n",
       "    }\n",
       "\n",
       "    .dataframe tbody tr th {\n",
       "        vertical-align: top;\n",
       "    }\n",
       "\n",
       "    .dataframe thead th {\n",
       "        text-align: right;\n",
       "    }\n",
       "</style>\n",
       "<table border=\"1\" class=\"dataframe\">\n",
       "  <thead>\n",
       "    <tr style=\"text-align: right;\">\n",
       "      <th></th>\n",
       "      <th>host_listings_count</th>\n",
       "      <th>accommodates</th>\n",
       "      <th>bathrooms</th>\n",
       "      <th>bedrooms</th>\n",
       "      <th>guests_included</th>\n",
       "      <th>minimum_nights</th>\n",
       "      <th>number_of_reviews</th>\n",
       "      <th>calculated_host_listings_count</th>\n",
       "      <th>price</th>\n",
       "      <th>latitude</th>\n",
       "      <th>longitude</th>\n",
       "      <th>room_type</th>\n",
       "      <th>instant_bookable</th>\n",
       "    </tr>\n",
       "  </thead>\n",
       "  <tbody>\n",
       "    <tr>\n",
       "      <th>0</th>\n",
       "      <td>1.0</td>\n",
       "      <td>6</td>\n",
       "      <td>1.0</td>\n",
       "      <td>2.0</td>\n",
       "      <td>1</td>\n",
       "      <td>3</td>\n",
       "      <td>4</td>\n",
       "      <td>1</td>\n",
       "      <td>$145.00</td>\n",
       "      <td>52.361173</td>\n",
       "      <td>4.866755</td>\n",
       "      <td>Entire home/apt</td>\n",
       "      <td>f</td>\n",
       "    </tr>\n",
       "    <tr>\n",
       "      <th>1</th>\n",
       "      <td>1.0</td>\n",
       "      <td>2</td>\n",
       "      <td>1.0</td>\n",
       "      <td>1.0</td>\n",
       "      <td>1</td>\n",
       "      <td>2</td>\n",
       "      <td>17</td>\n",
       "      <td>1</td>\n",
       "      <td>$88.00</td>\n",
       "      <td>52.370237</td>\n",
       "      <td>4.859507</td>\n",
       "      <td>Entire home/apt</td>\n",
       "      <td>f</td>\n",
       "    </tr>\n",
       "    <tr>\n",
       "      <th>2</th>\n",
       "      <td>1.0</td>\n",
       "      <td>2</td>\n",
       "      <td>1.0</td>\n",
       "      <td>1.0</td>\n",
       "      <td>2</td>\n",
       "      <td>2</td>\n",
       "      <td>4</td>\n",
       "      <td>1</td>\n",
       "      <td>$130.00</td>\n",
       "      <td>52.362016</td>\n",
       "      <td>4.866872</td>\n",
       "      <td>Entire home/apt</td>\n",
       "      <td>f</td>\n",
       "    </tr>\n",
       "    <tr>\n",
       "      <th>3</th>\n",
       "      <td>2.0</td>\n",
       "      <td>4</td>\n",
       "      <td>1.0</td>\n",
       "      <td>2.0</td>\n",
       "      <td>2</td>\n",
       "      <td>4</td>\n",
       "      <td>2</td>\n",
       "      <td>2</td>\n",
       "      <td>$110.00</td>\n",
       "      <td>52.365826</td>\n",
       "      <td>4.858178</td>\n",
       "      <td>Entire home/apt</td>\n",
       "      <td>f</td>\n",
       "    </tr>\n",
       "    <tr>\n",
       "      <th>4</th>\n",
       "      <td>1.0</td>\n",
       "      <td>2</td>\n",
       "      <td>1.0</td>\n",
       "      <td>1.0</td>\n",
       "      <td>1</td>\n",
       "      <td>3</td>\n",
       "      <td>10</td>\n",
       "      <td>1</td>\n",
       "      <td>$115.00</td>\n",
       "      <td>52.364179</td>\n",
       "      <td>4.864885</td>\n",
       "      <td>Entire home/apt</td>\n",
       "      <td>f</td>\n",
       "    </tr>\n",
       "  </tbody>\n",
       "</table>\n",
       "</div>"
      ],
      "text/plain": [
       "   host_listings_count  accommodates  bathrooms  bedrooms  guests_included  \\\n",
       "0                  1.0             6        1.0       2.0                1   \n",
       "1                  1.0             2        1.0       1.0                1   \n",
       "2                  1.0             2        1.0       1.0                2   \n",
       "3                  2.0             4        1.0       2.0                2   \n",
       "4                  1.0             2        1.0       1.0                1   \n",
       "\n",
       "   minimum_nights  number_of_reviews  calculated_host_listings_count    price  \\\n",
       "0               3                  4                               1  $145.00   \n",
       "1               2                 17                               1   $88.00   \n",
       "2               2                  4                               1  $130.00   \n",
       "3               4                  2                               2  $110.00   \n",
       "4               3                 10                               1  $115.00   \n",
       "\n",
       "    latitude  longitude        room_type instant_bookable  \n",
       "0  52.361173   4.866755  Entire home/apt                f  \n",
       "1  52.370237   4.859507  Entire home/apt                f  \n",
       "2  52.362016   4.866872  Entire home/apt                f  \n",
       "3  52.365826   4.858178  Entire home/apt                f  \n",
       "4  52.364179   4.864885  Entire home/apt                f  "
      ]
     },
     "execution_count": 3,
     "metadata": {},
     "output_type": "execute_result"
    }
   ],
   "source": [
    "ams.head()"
   ]
  },
  {
   "cell_type": "code",
   "execution_count": 4,
   "id": "9ac3ce8e",
   "metadata": {},
   "outputs": [
    {
     "data": {
      "text/plain": [
       "(15181, 13)"
      ]
     },
     "execution_count": 4,
     "metadata": {},
     "output_type": "execute_result"
    }
   ],
   "source": [
    "ams.shape"
   ]
  },
  {
   "cell_type": "code",
   "execution_count": 5,
   "id": "2c461449",
   "metadata": {},
   "outputs": [
    {
     "data": {
      "text/plain": [
       "host_listings_count                3\n",
       "accommodates                       0\n",
       "bathrooms                         18\n",
       "bedrooms                          12\n",
       "guests_included                    0\n",
       "minimum_nights                     0\n",
       "number_of_reviews                  0\n",
       "calculated_host_listings_count     0\n",
       "price                              0\n",
       "latitude                           0\n",
       "longitude                          0\n",
       "room_type                          0\n",
       "instant_bookable                   0\n",
       "dtype: int64"
      ]
     },
     "execution_count": 5,
     "metadata": {},
     "output_type": "execute_result"
    }
   ],
   "source": [
    "ams.isna().sum()"
   ]
  },
  {
   "cell_type": "code",
   "execution_count": 6,
   "id": "43715537",
   "metadata": {},
   "outputs": [
    {
     "data": {
      "text/html": [
       "<div>\n",
       "<style scoped>\n",
       "    .dataframe tbody tr th:only-of-type {\n",
       "        vertical-align: middle;\n",
       "    }\n",
       "\n",
       "    .dataframe tbody tr th {\n",
       "        vertical-align: top;\n",
       "    }\n",
       "\n",
       "    .dataframe thead th {\n",
       "        text-align: right;\n",
       "    }\n",
       "</style>\n",
       "<table border=\"1\" class=\"dataframe\">\n",
       "  <thead>\n",
       "    <tr style=\"text-align: right;\">\n",
       "      <th></th>\n",
       "      <th>host_listings_count</th>\n",
       "      <th>accommodates</th>\n",
       "      <th>bathrooms</th>\n",
       "      <th>bedrooms</th>\n",
       "      <th>guests_included</th>\n",
       "      <th>minimum_nights</th>\n",
       "      <th>number_of_reviews</th>\n",
       "      <th>calculated_host_listings_count</th>\n",
       "      <th>latitude</th>\n",
       "      <th>longitude</th>\n",
       "    </tr>\n",
       "  </thead>\n",
       "  <tbody>\n",
       "    <tr>\n",
       "      <th>count</th>\n",
       "      <td>15178.000000</td>\n",
       "      <td>15181.000000</td>\n",
       "      <td>15163.000000</td>\n",
       "      <td>15169.000000</td>\n",
       "      <td>15181.000000</td>\n",
       "      <td>15181.000000</td>\n",
       "      <td>15181.000000</td>\n",
       "      <td>15181.000000</td>\n",
       "      <td>15181.000000</td>\n",
       "      <td>15181.000000</td>\n",
       "    </tr>\n",
       "    <tr>\n",
       "      <th>mean</th>\n",
       "      <td>3.404994</td>\n",
       "      <td>2.917858</td>\n",
       "      <td>1.122832</td>\n",
       "      <td>1.412222</td>\n",
       "      <td>1.516106</td>\n",
       "      <td>2.882551</td>\n",
       "      <td>17.785456</td>\n",
       "      <td>2.934787</td>\n",
       "      <td>52.365353</td>\n",
       "      <td>4.889025</td>\n",
       "    </tr>\n",
       "    <tr>\n",
       "      <th>std</th>\n",
       "      <td>11.324173</td>\n",
       "      <td>1.404973</td>\n",
       "      <td>0.356547</td>\n",
       "      <td>0.885127</td>\n",
       "      <td>1.004709</td>\n",
       "      <td>7.215722</td>\n",
       "      <td>34.747999</td>\n",
       "      <td>8.968696</td>\n",
       "      <td>0.015738</td>\n",
       "      <td>0.034901</td>\n",
       "    </tr>\n",
       "    <tr>\n",
       "      <th>min</th>\n",
       "      <td>0.000000</td>\n",
       "      <td>1.000000</td>\n",
       "      <td>0.000000</td>\n",
       "      <td>0.000000</td>\n",
       "      <td>1.000000</td>\n",
       "      <td>1.000000</td>\n",
       "      <td>0.000000</td>\n",
       "      <td>1.000000</td>\n",
       "      <td>52.290308</td>\n",
       "      <td>4.753513</td>\n",
       "    </tr>\n",
       "    <tr>\n",
       "      <th>25%</th>\n",
       "      <td>1.000000</td>\n",
       "      <td>2.000000</td>\n",
       "      <td>1.000000</td>\n",
       "      <td>1.000000</td>\n",
       "      <td>1.000000</td>\n",
       "      <td>2.000000</td>\n",
       "      <td>2.000000</td>\n",
       "      <td>1.000000</td>\n",
       "      <td>52.355616</td>\n",
       "      <td>4.865016</td>\n",
       "    </tr>\n",
       "    <tr>\n",
       "      <th>50%</th>\n",
       "      <td>1.000000</td>\n",
       "      <td>2.000000</td>\n",
       "      <td>1.000000</td>\n",
       "      <td>1.000000</td>\n",
       "      <td>1.000000</td>\n",
       "      <td>2.000000</td>\n",
       "      <td>7.000000</td>\n",
       "      <td>1.000000</td>\n",
       "      <td>52.365028</td>\n",
       "      <td>4.886344</td>\n",
       "    </tr>\n",
       "    <tr>\n",
       "      <th>75%</th>\n",
       "      <td>1.000000</td>\n",
       "      <td>4.000000</td>\n",
       "      <td>1.000000</td>\n",
       "      <td>2.000000</td>\n",
       "      <td>2.000000</td>\n",
       "      <td>3.000000</td>\n",
       "      <td>18.000000</td>\n",
       "      <td>1.000000</td>\n",
       "      <td>52.374829</td>\n",
       "      <td>4.907857</td>\n",
       "    </tr>\n",
       "    <tr>\n",
       "      <th>max</th>\n",
       "      <td>106.000000</td>\n",
       "      <td>17.000000</td>\n",
       "      <td>8.000000</td>\n",
       "      <td>10.000000</td>\n",
       "      <td>16.000000</td>\n",
       "      <td>523.000000</td>\n",
       "      <td>496.000000</td>\n",
       "      <td>91.000000</td>\n",
       "      <td>52.426224</td>\n",
       "      <td>5.027689</td>\n",
       "    </tr>\n",
       "  </tbody>\n",
       "</table>\n",
       "</div>"
      ],
      "text/plain": [
       "       host_listings_count  accommodates     bathrooms      bedrooms  \\\n",
       "count         15178.000000  15181.000000  15163.000000  15169.000000   \n",
       "mean              3.404994      2.917858      1.122832      1.412222   \n",
       "std              11.324173      1.404973      0.356547      0.885127   \n",
       "min               0.000000      1.000000      0.000000      0.000000   \n",
       "25%               1.000000      2.000000      1.000000      1.000000   \n",
       "50%               1.000000      2.000000      1.000000      1.000000   \n",
       "75%               1.000000      4.000000      1.000000      2.000000   \n",
       "max             106.000000     17.000000      8.000000     10.000000   \n",
       "\n",
       "       guests_included  minimum_nights  number_of_reviews  \\\n",
       "count     15181.000000    15181.000000       15181.000000   \n",
       "mean          1.516106        2.882551          17.785456   \n",
       "std           1.004709        7.215722          34.747999   \n",
       "min           1.000000        1.000000           0.000000   \n",
       "25%           1.000000        2.000000           2.000000   \n",
       "50%           1.000000        2.000000           7.000000   \n",
       "75%           2.000000        3.000000          18.000000   \n",
       "max          16.000000      523.000000         496.000000   \n",
       "\n",
       "       calculated_host_listings_count      latitude     longitude  \n",
       "count                    15181.000000  15181.000000  15181.000000  \n",
       "mean                         2.934787     52.365353      4.889025  \n",
       "std                          8.968696      0.015738      0.034901  \n",
       "min                          1.000000     52.290308      4.753513  \n",
       "25%                          1.000000     52.355616      4.865016  \n",
       "50%                          1.000000     52.365028      4.886344  \n",
       "75%                          1.000000     52.374829      4.907857  \n",
       "max                         91.000000     52.426224      5.027689  "
      ]
     },
     "execution_count": 6,
     "metadata": {},
     "output_type": "execute_result"
    }
   ],
   "source": [
    "ams.describe()"
   ]
  },
  {
   "cell_type": "code",
   "execution_count": 7,
   "id": "6d00c79a",
   "metadata": {},
   "outputs": [
    {
     "data": {
      "text/plain": [
       "0    $145.00\n",
       "1     $88.00\n",
       "2    $130.00\n",
       "3    $110.00\n",
       "4    $115.00\n",
       "Name: price, dtype: object"
      ]
     },
     "execution_count": 7,
     "metadata": {},
     "output_type": "execute_result"
    }
   ],
   "source": [
    "ams['price'].head()"
   ]
  },
  {
   "cell_type": "code",
   "execution_count": 11,
   "id": "7bbe13bd",
   "metadata": {},
   "outputs": [
    {
     "name": "stderr",
     "output_type": "stream",
     "text": [
      "C:\\Users\\PRANAY\\AppData\\Local\\Temp/ipykernel_9240/4225648539.py:1: FutureWarning: The default value of regex will change from True to False in a future version. In addition, single character regular expressions will *not* be treated as literal strings when regex=True.\n",
      "  ams['price']=ams['price'].str.replace('$','')\n"
     ]
    }
   ],
   "source": [
    "ams['price']=ams['price'].str.replace('$','')\n",
    "ams['price']=ams['price'].str.replace(',','')"
   ]
  },
  {
   "cell_type": "code",
   "execution_count": 12,
   "id": "258e5ce8",
   "metadata": {},
   "outputs": [],
   "source": [
    "ams['price']=ams['price'].astype(float)"
   ]
  },
  {
   "cell_type": "code",
   "execution_count": 13,
   "id": "d99fe927",
   "metadata": {},
   "outputs": [
    {
     "data": {
      "text/plain": [
       "host_listings_count               float64\n",
       "accommodates                        int64\n",
       "bathrooms                         float64\n",
       "bedrooms                          float64\n",
       "guests_included                     int64\n",
       "minimum_nights                      int64\n",
       "number_of_reviews                   int64\n",
       "calculated_host_listings_count      int64\n",
       "price                             float64\n",
       "latitude                          float64\n",
       "longitude                         float64\n",
       "room_type                          object\n",
       "instant_bookable                   object\n",
       "dtype: object"
      ]
     },
     "execution_count": 13,
     "metadata": {},
     "output_type": "execute_result"
    }
   ],
   "source": [
    "ams.dtypes"
   ]
  },
  {
   "cell_type": "code",
   "execution_count": 14,
   "id": "22496a50",
   "metadata": {},
   "outputs": [
    {
     "data": {
      "text/html": [
       "<div>\n",
       "<style scoped>\n",
       "    .dataframe tbody tr th:only-of-type {\n",
       "        vertical-align: middle;\n",
       "    }\n",
       "\n",
       "    .dataframe tbody tr th {\n",
       "        vertical-align: top;\n",
       "    }\n",
       "\n",
       "    .dataframe thead th {\n",
       "        text-align: right;\n",
       "    }\n",
       "</style>\n",
       "<table border=\"1\" class=\"dataframe\">\n",
       "  <thead>\n",
       "    <tr style=\"text-align: right;\">\n",
       "      <th></th>\n",
       "      <th>host_listings_count</th>\n",
       "      <th>accommodates</th>\n",
       "      <th>bathrooms</th>\n",
       "      <th>bedrooms</th>\n",
       "      <th>guests_included</th>\n",
       "      <th>minimum_nights</th>\n",
       "      <th>number_of_reviews</th>\n",
       "      <th>calculated_host_listings_count</th>\n",
       "      <th>price</th>\n",
       "      <th>latitude</th>\n",
       "      <th>longitude</th>\n",
       "    </tr>\n",
       "  </thead>\n",
       "  <tbody>\n",
       "    <tr>\n",
       "      <th>count</th>\n",
       "      <td>15178.000000</td>\n",
       "      <td>15181.000000</td>\n",
       "      <td>15163.000000</td>\n",
       "      <td>15169.000000</td>\n",
       "      <td>15181.000000</td>\n",
       "      <td>15181.000000</td>\n",
       "      <td>15181.000000</td>\n",
       "      <td>15181.000000</td>\n",
       "      <td>15181.000000</td>\n",
       "      <td>15181.000000</td>\n",
       "      <td>15181.000000</td>\n",
       "    </tr>\n",
       "    <tr>\n",
       "      <th>mean</th>\n",
       "      <td>3.404994</td>\n",
       "      <td>2.917858</td>\n",
       "      <td>1.122832</td>\n",
       "      <td>1.412222</td>\n",
       "      <td>1.516106</td>\n",
       "      <td>2.882551</td>\n",
       "      <td>17.785456</td>\n",
       "      <td>2.934787</td>\n",
       "      <td>134.799223</td>\n",
       "      <td>52.365353</td>\n",
       "      <td>4.889025</td>\n",
       "    </tr>\n",
       "    <tr>\n",
       "      <th>std</th>\n",
       "      <td>11.324173</td>\n",
       "      <td>1.404973</td>\n",
       "      <td>0.356547</td>\n",
       "      <td>0.885127</td>\n",
       "      <td>1.004709</td>\n",
       "      <td>7.215722</td>\n",
       "      <td>34.747999</td>\n",
       "      <td>8.968696</td>\n",
       "      <td>85.751273</td>\n",
       "      <td>0.015738</td>\n",
       "      <td>0.034901</td>\n",
       "    </tr>\n",
       "    <tr>\n",
       "      <th>min</th>\n",
       "      <td>0.000000</td>\n",
       "      <td>1.000000</td>\n",
       "      <td>0.000000</td>\n",
       "      <td>0.000000</td>\n",
       "      <td>1.000000</td>\n",
       "      <td>1.000000</td>\n",
       "      <td>0.000000</td>\n",
       "      <td>1.000000</td>\n",
       "      <td>19.000000</td>\n",
       "      <td>52.290308</td>\n",
       "      <td>4.753513</td>\n",
       "    </tr>\n",
       "    <tr>\n",
       "      <th>25%</th>\n",
       "      <td>1.000000</td>\n",
       "      <td>2.000000</td>\n",
       "      <td>1.000000</td>\n",
       "      <td>1.000000</td>\n",
       "      <td>1.000000</td>\n",
       "      <td>2.000000</td>\n",
       "      <td>2.000000</td>\n",
       "      <td>1.000000</td>\n",
       "      <td>90.000000</td>\n",
       "      <td>52.355616</td>\n",
       "      <td>4.865016</td>\n",
       "    </tr>\n",
       "    <tr>\n",
       "      <th>50%</th>\n",
       "      <td>1.000000</td>\n",
       "      <td>2.000000</td>\n",
       "      <td>1.000000</td>\n",
       "      <td>1.000000</td>\n",
       "      <td>1.000000</td>\n",
       "      <td>2.000000</td>\n",
       "      <td>7.000000</td>\n",
       "      <td>1.000000</td>\n",
       "      <td>118.000000</td>\n",
       "      <td>52.365028</td>\n",
       "      <td>4.886344</td>\n",
       "    </tr>\n",
       "    <tr>\n",
       "      <th>75%</th>\n",
       "      <td>1.000000</td>\n",
       "      <td>4.000000</td>\n",
       "      <td>1.000000</td>\n",
       "      <td>2.000000</td>\n",
       "      <td>2.000000</td>\n",
       "      <td>3.000000</td>\n",
       "      <td>18.000000</td>\n",
       "      <td>1.000000</td>\n",
       "      <td>150.000000</td>\n",
       "      <td>52.374829</td>\n",
       "      <td>4.907857</td>\n",
       "    </tr>\n",
       "    <tr>\n",
       "      <th>max</th>\n",
       "      <td>106.000000</td>\n",
       "      <td>17.000000</td>\n",
       "      <td>8.000000</td>\n",
       "      <td>10.000000</td>\n",
       "      <td>16.000000</td>\n",
       "      <td>523.000000</td>\n",
       "      <td>496.000000</td>\n",
       "      <td>91.000000</td>\n",
       "      <td>3142.000000</td>\n",
       "      <td>52.426224</td>\n",
       "      <td>5.027689</td>\n",
       "    </tr>\n",
       "  </tbody>\n",
       "</table>\n",
       "</div>"
      ],
      "text/plain": [
       "       host_listings_count  accommodates     bathrooms      bedrooms  \\\n",
       "count         15178.000000  15181.000000  15163.000000  15169.000000   \n",
       "mean              3.404994      2.917858      1.122832      1.412222   \n",
       "std              11.324173      1.404973      0.356547      0.885127   \n",
       "min               0.000000      1.000000      0.000000      0.000000   \n",
       "25%               1.000000      2.000000      1.000000      1.000000   \n",
       "50%               1.000000      2.000000      1.000000      1.000000   \n",
       "75%               1.000000      4.000000      1.000000      2.000000   \n",
       "max             106.000000     17.000000      8.000000     10.000000   \n",
       "\n",
       "       guests_included  minimum_nights  number_of_reviews  \\\n",
       "count     15181.000000    15181.000000       15181.000000   \n",
       "mean          1.516106        2.882551          17.785456   \n",
       "std           1.004709        7.215722          34.747999   \n",
       "min           1.000000        1.000000           0.000000   \n",
       "25%           1.000000        2.000000           2.000000   \n",
       "50%           1.000000        2.000000           7.000000   \n",
       "75%           2.000000        3.000000          18.000000   \n",
       "max          16.000000      523.000000         496.000000   \n",
       "\n",
       "       calculated_host_listings_count         price      latitude  \\\n",
       "count                    15181.000000  15181.000000  15181.000000   \n",
       "mean                         2.934787    134.799223     52.365353   \n",
       "std                          8.968696     85.751273      0.015738   \n",
       "min                          1.000000     19.000000     52.290308   \n",
       "25%                          1.000000     90.000000     52.355616   \n",
       "50%                          1.000000    118.000000     52.365028   \n",
       "75%                          1.000000    150.000000     52.374829   \n",
       "max                         91.000000   3142.000000     52.426224   \n",
       "\n",
       "          longitude  \n",
       "count  15181.000000  \n",
       "mean       4.889025  \n",
       "std        0.034901  \n",
       "min        4.753513  \n",
       "25%        4.865016  \n",
       "50%        4.886344  \n",
       "75%        4.907857  \n",
       "max        5.027689  "
      ]
     },
     "execution_count": 14,
     "metadata": {},
     "output_type": "execute_result"
    }
   ],
   "source": [
    "ams.describe()"
   ]
  },
  {
   "cell_type": "code",
   "execution_count": 15,
   "id": "c632fff3",
   "metadata": {},
   "outputs": [
    {
     "data": {
      "text/plain": [
       "134.79922271260128"
      ]
     },
     "execution_count": 15,
     "metadata": {},
     "output_type": "execute_result"
    }
   ],
   "source": [
    "ams['price'].mean()"
   ]
  },
  {
   "cell_type": "code",
   "execution_count": 16,
   "id": "3a94731c",
   "metadata": {},
   "outputs": [
    {
     "data": {
      "text/plain": [
       "3142.0"
      ]
     },
     "execution_count": 16,
     "metadata": {},
     "output_type": "execute_result"
    }
   ],
   "source": [
    "ams['price'].max()"
   ]
  },
  {
   "cell_type": "code",
   "execution_count": 17,
   "id": "f9948dd3",
   "metadata": {},
   "outputs": [
    {
     "name": "stdout",
     "output_type": "stream",
     "text": [
      "50th percentile of ams['price'] :  118.0\n",
      "25th percentile of ams['price'] :  90.0\n",
      "99th percentile of ams['price'] :  440.0\n"
     ]
    }
   ],
   "source": [
    "ams['price']\n",
    "print(\"50th percentile of ams['price'] : \",\n",
    "       np.percentile(ams['price'], 50))\n",
    "print(\"25th percentile of ams['price'] : \",\n",
    "       np.percentile(ams['price'], 25))\n",
    "print(\"99th percentile of ams['price'] : \",\n",
    "       np.percentile(ams['price'], 99))"
   ]
  },
  {
   "cell_type": "code",
   "execution_count": 18,
   "id": "8dbd1d0e",
   "metadata": {},
   "outputs": [
    {
     "name": "stdout",
     "output_type": "stream",
     "text": [
      "90th percentile of ams['price'] : 220.0\n"
     ]
    }
   ],
   "source": [
    "ams['price']\n",
    "print(\"90th percentile of ams['price'] :\",np.percentile(ams['price'],90))"
   ]
  },
  {
   "cell_type": "code",
   "execution_count": 19,
   "id": "ce67670c",
   "metadata": {},
   "outputs": [],
   "source": [
    "ams=ams[(ams.price<=440.0)]\n",
    "ams=ams.dropna()"
   ]
  },
  {
   "cell_type": "code",
   "execution_count": 20,
   "id": "32dcca70",
   "metadata": {},
   "outputs": [
    {
     "data": {
      "text/plain": [
       "host_listings_count               0\n",
       "accommodates                      0\n",
       "bathrooms                         0\n",
       "bedrooms                          0\n",
       "guests_included                   0\n",
       "minimum_nights                    0\n",
       "number_of_reviews                 0\n",
       "calculated_host_listings_count    0\n",
       "price                             0\n",
       "latitude                          0\n",
       "longitude                         0\n",
       "room_type                         0\n",
       "instant_bookable                  0\n",
       "dtype: int64"
      ]
     },
     "execution_count": 20,
     "metadata": {},
     "output_type": "execute_result"
    }
   ],
   "source": [
    "ams.isna().sum()"
   ]
  },
  {
   "cell_type": "code",
   "execution_count": 21,
   "id": "13411351",
   "metadata": {
    "scrolled": true
   },
   "outputs": [
    {
     "data": {
      "text/plain": [
       "(14998, 13)"
      ]
     },
     "execution_count": 21,
     "metadata": {},
     "output_type": "execute_result"
    }
   ],
   "source": [
    "ams.shape"
   ]
  },
  {
   "cell_type": "code",
   "execution_count": 22,
   "id": "227a8912",
   "metadata": {},
   "outputs": [],
   "source": [
    "a_latitude=52.379189\n",
    "a_longitude=4.899431"
   ]
  },
  {
   "cell_type": "code",
   "execution_count": 23,
   "id": "b60bca86",
   "metadata": {},
   "outputs": [],
   "source": [
    "from math import radians, cos, sin, asin, sqrt\n",
    "def haversine(lon1, lat1, lon2, lat2):\n",
    "    \"\"\"\n",
    "    Calculate the great circle distance between two points \n",
    "    on the earth (specified in decimal degrees)\n",
    "    \"\"\"\n",
    "    # convert decimal degrees to radians \n",
    "    lon1, lat1, lon2, lat2 = map(radians, [lon1, lat1, lon2, lat2])\n",
    "    # haversine formula \n",
    "    dlon = lon2 - lon1 \n",
    "    dlat = lat2 - lat1 \n",
    "    a = sin(dlat/2)**2 + cos(lat1) * cos(lat2) * sin(dlon/2)**2\n",
    "    c = 2 * asin(sqrt(a)) \n",
    "    km = 6367 * c\n",
    "    return km\n",
    "\n",
    "\n",
    "for index, row in ams.iterrows():\n",
    "    ams.loc[index, 'distance'] = haversine(a_longitude, a_latitude, row['longitude'], row['latitude'])"
   ]
  },
  {
   "cell_type": "code",
   "execution_count": 24,
   "id": "830c895b",
   "metadata": {},
   "outputs": [
    {
     "data": {
      "text/html": [
       "<div>\n",
       "<style scoped>\n",
       "    .dataframe tbody tr th:only-of-type {\n",
       "        vertical-align: middle;\n",
       "    }\n",
       "\n",
       "    .dataframe tbody tr th {\n",
       "        vertical-align: top;\n",
       "    }\n",
       "\n",
       "    .dataframe thead th {\n",
       "        text-align: right;\n",
       "    }\n",
       "</style>\n",
       "<table border=\"1\" class=\"dataframe\">\n",
       "  <thead>\n",
       "    <tr style=\"text-align: right;\">\n",
       "      <th></th>\n",
       "      <th>host_listings_count</th>\n",
       "      <th>accommodates</th>\n",
       "      <th>bathrooms</th>\n",
       "      <th>bedrooms</th>\n",
       "      <th>guests_included</th>\n",
       "      <th>minimum_nights</th>\n",
       "      <th>number_of_reviews</th>\n",
       "      <th>calculated_host_listings_count</th>\n",
       "      <th>price</th>\n",
       "      <th>latitude</th>\n",
       "      <th>longitude</th>\n",
       "      <th>room_type</th>\n",
       "      <th>instant_bookable</th>\n",
       "      <th>distance</th>\n",
       "    </tr>\n",
       "  </thead>\n",
       "  <tbody>\n",
       "    <tr>\n",
       "      <th>0</th>\n",
       "      <td>1.0</td>\n",
       "      <td>6</td>\n",
       "      <td>1.0</td>\n",
       "      <td>2.0</td>\n",
       "      <td>1</td>\n",
       "      <td>3</td>\n",
       "      <td>4</td>\n",
       "      <td>1</td>\n",
       "      <td>145.0</td>\n",
       "      <td>52.361173</td>\n",
       "      <td>4.866755</td>\n",
       "      <td>Entire home/apt</td>\n",
       "      <td>f</td>\n",
       "      <td>2.987199</td>\n",
       "    </tr>\n",
       "    <tr>\n",
       "      <th>1</th>\n",
       "      <td>1.0</td>\n",
       "      <td>2</td>\n",
       "      <td>1.0</td>\n",
       "      <td>1.0</td>\n",
       "      <td>1</td>\n",
       "      <td>2</td>\n",
       "      <td>17</td>\n",
       "      <td>1</td>\n",
       "      <td>88.0</td>\n",
       "      <td>52.370237</td>\n",
       "      <td>4.859507</td>\n",
       "      <td>Entire home/apt</td>\n",
       "      <td>f</td>\n",
       "      <td>2.885443</td>\n",
       "    </tr>\n",
       "    <tr>\n",
       "      <th>2</th>\n",
       "      <td>1.0</td>\n",
       "      <td>2</td>\n",
       "      <td>1.0</td>\n",
       "      <td>1.0</td>\n",
       "      <td>2</td>\n",
       "      <td>2</td>\n",
       "      <td>4</td>\n",
       "      <td>1</td>\n",
       "      <td>130.0</td>\n",
       "      <td>52.362016</td>\n",
       "      <td>4.866872</td>\n",
       "      <td>Entire home/apt</td>\n",
       "      <td>f</td>\n",
       "      <td>2.919191</td>\n",
       "    </tr>\n",
       "    <tr>\n",
       "      <th>3</th>\n",
       "      <td>2.0</td>\n",
       "      <td>4</td>\n",
       "      <td>1.0</td>\n",
       "      <td>2.0</td>\n",
       "      <td>2</td>\n",
       "      <td>4</td>\n",
       "      <td>2</td>\n",
       "      <td>2</td>\n",
       "      <td>110.0</td>\n",
       "      <td>52.365826</td>\n",
       "      <td>4.858178</td>\n",
       "      <td>Entire home/apt</td>\n",
       "      <td>f</td>\n",
       "      <td>3.168346</td>\n",
       "    </tr>\n",
       "    <tr>\n",
       "      <th>4</th>\n",
       "      <td>1.0</td>\n",
       "      <td>2</td>\n",
       "      <td>1.0</td>\n",
       "      <td>1.0</td>\n",
       "      <td>1</td>\n",
       "      <td>3</td>\n",
       "      <td>10</td>\n",
       "      <td>1</td>\n",
       "      <td>115.0</td>\n",
       "      <td>52.364179</td>\n",
       "      <td>4.864885</td>\n",
       "      <td>Entire home/apt</td>\n",
       "      <td>f</td>\n",
       "      <td>2.876726</td>\n",
       "    </tr>\n",
       "  </tbody>\n",
       "</table>\n",
       "</div>"
      ],
      "text/plain": [
       "   host_listings_count  accommodates  bathrooms  bedrooms  guests_included  \\\n",
       "0                  1.0             6        1.0       2.0                1   \n",
       "1                  1.0             2        1.0       1.0                1   \n",
       "2                  1.0             2        1.0       1.0                2   \n",
       "3                  2.0             4        1.0       2.0                2   \n",
       "4                  1.0             2        1.0       1.0                1   \n",
       "\n",
       "   minimum_nights  number_of_reviews  calculated_host_listings_count  price  \\\n",
       "0               3                  4                               1  145.0   \n",
       "1               2                 17                               1   88.0   \n",
       "2               2                  4                               1  130.0   \n",
       "3               4                  2                               2  110.0   \n",
       "4               3                 10                               1  115.0   \n",
       "\n",
       "    latitude  longitude        room_type instant_bookable  distance  \n",
       "0  52.361173   4.866755  Entire home/apt                f  2.987199  \n",
       "1  52.370237   4.859507  Entire home/apt                f  2.885443  \n",
       "2  52.362016   4.866872  Entire home/apt                f  2.919191  \n",
       "3  52.365826   4.858178  Entire home/apt                f  3.168346  \n",
       "4  52.364179   4.864885  Entire home/apt                f  2.876726  "
      ]
     },
     "execution_count": 24,
     "metadata": {},
     "output_type": "execute_result"
    }
   ],
   "source": [
    "ams.head()"
   ]
  },
  {
   "cell_type": "code",
   "execution_count": 25,
   "id": "a4ed2adb",
   "metadata": {},
   "outputs": [
    {
     "data": {
      "text/plain": [
       "count    298.000000\n",
       "mean     118.097315\n",
       "std       48.073043\n",
       "min       38.000000\n",
       "25%       88.000000\n",
       "50%      105.000000\n",
       "75%      139.000000\n",
       "max      345.000000\n",
       "Name: price, dtype: float64"
      ]
     },
     "execution_count": 25,
     "metadata": {},
     "output_type": "execute_result"
    }
   ],
   "source": [
    "dt3=ams[ams.room_type=='Private room']\n",
    "dt3=dt3[dt3.distance<=1]\n",
    "dt3.price.describe()"
   ]
  },
  {
   "cell_type": "code",
   "execution_count": 26,
   "id": "2db32c57",
   "metadata": {},
   "outputs": [
    {
     "data": {
      "text/html": [
       "<div>\n",
       "<style scoped>\n",
       "    .dataframe tbody tr th:only-of-type {\n",
       "        vertical-align: middle;\n",
       "    }\n",
       "\n",
       "    .dataframe tbody tr th {\n",
       "        vertical-align: top;\n",
       "    }\n",
       "\n",
       "    .dataframe thead th {\n",
       "        text-align: right;\n",
       "    }\n",
       "</style>\n",
       "<table border=\"1\" class=\"dataframe\">\n",
       "  <thead>\n",
       "    <tr style=\"text-align: right;\">\n",
       "      <th></th>\n",
       "      <th>host_listings_count</th>\n",
       "      <th>accommodates</th>\n",
       "      <th>bathrooms</th>\n",
       "      <th>bedrooms</th>\n",
       "      <th>guests_included</th>\n",
       "      <th>minimum_nights</th>\n",
       "      <th>number_of_reviews</th>\n",
       "      <th>calculated_host_listings_count</th>\n",
       "      <th>price</th>\n",
       "      <th>latitude</th>\n",
       "      <th>longitude</th>\n",
       "      <th>room_type</th>\n",
       "      <th>instant_bookable</th>\n",
       "      <th>distance</th>\n",
       "    </tr>\n",
       "  </thead>\n",
       "  <tbody>\n",
       "    <tr>\n",
       "      <th>3158</th>\n",
       "      <td>1.0</td>\n",
       "      <td>2</td>\n",
       "      <td>1.5</td>\n",
       "      <td>1.0</td>\n",
       "      <td>1</td>\n",
       "      <td>1</td>\n",
       "      <td>0</td>\n",
       "      <td>1</td>\n",
       "      <td>85.0</td>\n",
       "      <td>52.378546</td>\n",
       "      <td>4.900775</td>\n",
       "      <td>Private room</td>\n",
       "      <td>f</td>\n",
       "      <td>0.115801</td>\n",
       "    </tr>\n",
       "    <tr>\n",
       "      <th>3168</th>\n",
       "      <td>1.0</td>\n",
       "      <td>4</td>\n",
       "      <td>1.0</td>\n",
       "      <td>1.0</td>\n",
       "      <td>1</td>\n",
       "      <td>1</td>\n",
       "      <td>0</td>\n",
       "      <td>1</td>\n",
       "      <td>41.0</td>\n",
       "      <td>52.378850</td>\n",
       "      <td>4.901433</td>\n",
       "      <td>Shared room</td>\n",
       "      <td>f</td>\n",
       "      <td>0.140946</td>\n",
       "    </tr>\n",
       "    <tr>\n",
       "      <th>2639</th>\n",
       "      <td>1.0</td>\n",
       "      <td>4</td>\n",
       "      <td>1.0</td>\n",
       "      <td>1.0</td>\n",
       "      <td>2</td>\n",
       "      <td>3</td>\n",
       "      <td>27</td>\n",
       "      <td>1</td>\n",
       "      <td>159.0</td>\n",
       "      <td>52.379089</td>\n",
       "      <td>4.897293</td>\n",
       "      <td>Entire home/apt</td>\n",
       "      <td>f</td>\n",
       "      <td>0.145468</td>\n",
       "    </tr>\n",
       "    <tr>\n",
       "      <th>3010</th>\n",
       "      <td>4.0</td>\n",
       "      <td>2</td>\n",
       "      <td>1.0</td>\n",
       "      <td>1.0</td>\n",
       "      <td>1</td>\n",
       "      <td>1</td>\n",
       "      <td>4</td>\n",
       "      <td>4</td>\n",
       "      <td>150.0</td>\n",
       "      <td>52.378549</td>\n",
       "      <td>4.896679</td>\n",
       "      <td>Private room</td>\n",
       "      <td>t</td>\n",
       "      <td>0.199767</td>\n",
       "    </tr>\n",
       "    <tr>\n",
       "      <th>1860</th>\n",
       "      <td>1.0</td>\n",
       "      <td>2</td>\n",
       "      <td>1.0</td>\n",
       "      <td>1.0</td>\n",
       "      <td>1</td>\n",
       "      <td>1</td>\n",
       "      <td>9</td>\n",
       "      <td>1</td>\n",
       "      <td>120.0</td>\n",
       "      <td>52.378398</td>\n",
       "      <td>4.896674</td>\n",
       "      <td>Private room</td>\n",
       "      <td>f</td>\n",
       "      <td>0.206638</td>\n",
       "    </tr>\n",
       "    <tr>\n",
       "      <th>...</th>\n",
       "      <td>...</td>\n",
       "      <td>...</td>\n",
       "      <td>...</td>\n",
       "      <td>...</td>\n",
       "      <td>...</td>\n",
       "      <td>...</td>\n",
       "      <td>...</td>\n",
       "      <td>...</td>\n",
       "      <td>...</td>\n",
       "      <td>...</td>\n",
       "      <td>...</td>\n",
       "      <td>...</td>\n",
       "      <td>...</td>\n",
       "      <td>...</td>\n",
       "    </tr>\n",
       "    <tr>\n",
       "      <th>6804</th>\n",
       "      <td>1.0</td>\n",
       "      <td>3</td>\n",
       "      <td>1.0</td>\n",
       "      <td>1.0</td>\n",
       "      <td>2</td>\n",
       "      <td>2</td>\n",
       "      <td>37</td>\n",
       "      <td>1</td>\n",
       "      <td>40.0</td>\n",
       "      <td>52.290687</td>\n",
       "      <td>4.983784</td>\n",
       "      <td>Private room</td>\n",
       "      <td>f</td>\n",
       "      <td>11.381113</td>\n",
       "    </tr>\n",
       "    <tr>\n",
       "      <th>6779</th>\n",
       "      <td>1.0</td>\n",
       "      <td>4</td>\n",
       "      <td>1.0</td>\n",
       "      <td>3.0</td>\n",
       "      <td>1</td>\n",
       "      <td>3</td>\n",
       "      <td>1</td>\n",
       "      <td>1</td>\n",
       "      <td>101.0</td>\n",
       "      <td>52.292209</td>\n",
       "      <td>4.989963</td>\n",
       "      <td>Entire home/apt</td>\n",
       "      <td>f</td>\n",
       "      <td>11.454847</td>\n",
       "    </tr>\n",
       "    <tr>\n",
       "      <th>6791</th>\n",
       "      <td>1.0</td>\n",
       "      <td>2</td>\n",
       "      <td>1.0</td>\n",
       "      <td>1.0</td>\n",
       "      <td>1</td>\n",
       "      <td>1</td>\n",
       "      <td>22</td>\n",
       "      <td>1</td>\n",
       "      <td>50.0</td>\n",
       "      <td>52.292890</td>\n",
       "      <td>4.995102</td>\n",
       "      <td>Private room</td>\n",
       "      <td>t</td>\n",
       "      <td>11.583068</td>\n",
       "    </tr>\n",
       "    <tr>\n",
       "      <th>6766</th>\n",
       "      <td>1.0</td>\n",
       "      <td>2</td>\n",
       "      <td>1.0</td>\n",
       "      <td>1.0</td>\n",
       "      <td>1</td>\n",
       "      <td>2</td>\n",
       "      <td>5</td>\n",
       "      <td>1</td>\n",
       "      <td>50.0</td>\n",
       "      <td>52.291664</td>\n",
       "      <td>4.992333</td>\n",
       "      <td>Private room</td>\n",
       "      <td>f</td>\n",
       "      <td>11.592780</td>\n",
       "    </tr>\n",
       "    <tr>\n",
       "      <th>6764</th>\n",
       "      <td>1.0</td>\n",
       "      <td>3</td>\n",
       "      <td>1.0</td>\n",
       "      <td>3.0</td>\n",
       "      <td>1</td>\n",
       "      <td>30</td>\n",
       "      <td>0</td>\n",
       "      <td>1</td>\n",
       "      <td>83.0</td>\n",
       "      <td>52.302752</td>\n",
       "      <td>5.020968</td>\n",
       "      <td>Entire home/apt</td>\n",
       "      <td>f</td>\n",
       "      <td>11.842162</td>\n",
       "    </tr>\n",
       "  </tbody>\n",
       "</table>\n",
       "<p>14998 rows × 14 columns</p>\n",
       "</div>"
      ],
      "text/plain": [
       "      host_listings_count  accommodates  bathrooms  bedrooms  guests_included  \\\n",
       "3158                  1.0             2        1.5       1.0                1   \n",
       "3168                  1.0             4        1.0       1.0                1   \n",
       "2639                  1.0             4        1.0       1.0                2   \n",
       "3010                  4.0             2        1.0       1.0                1   \n",
       "1860                  1.0             2        1.0       1.0                1   \n",
       "...                   ...           ...        ...       ...              ...   \n",
       "6804                  1.0             3        1.0       1.0                2   \n",
       "6779                  1.0             4        1.0       3.0                1   \n",
       "6791                  1.0             2        1.0       1.0                1   \n",
       "6766                  1.0             2        1.0       1.0                1   \n",
       "6764                  1.0             3        1.0       3.0                1   \n",
       "\n",
       "      minimum_nights  number_of_reviews  calculated_host_listings_count  \\\n",
       "3158               1                  0                               1   \n",
       "3168               1                  0                               1   \n",
       "2639               3                 27                               1   \n",
       "3010               1                  4                               4   \n",
       "1860               1                  9                               1   \n",
       "...              ...                ...                             ...   \n",
       "6804               2                 37                               1   \n",
       "6779               3                  1                               1   \n",
       "6791               1                 22                               1   \n",
       "6766               2                  5                               1   \n",
       "6764              30                  0                               1   \n",
       "\n",
       "      price   latitude  longitude        room_type instant_bookable   distance  \n",
       "3158   85.0  52.378546   4.900775     Private room                f   0.115801  \n",
       "3168   41.0  52.378850   4.901433      Shared room                f   0.140946  \n",
       "2639  159.0  52.379089   4.897293  Entire home/apt                f   0.145468  \n",
       "3010  150.0  52.378549   4.896679     Private room                t   0.199767  \n",
       "1860  120.0  52.378398   4.896674     Private room                f   0.206638  \n",
       "...     ...        ...        ...              ...              ...        ...  \n",
       "6804   40.0  52.290687   4.983784     Private room                f  11.381113  \n",
       "6779  101.0  52.292209   4.989963  Entire home/apt                f  11.454847  \n",
       "6791   50.0  52.292890   4.995102     Private room                t  11.583068  \n",
       "6766   50.0  52.291664   4.992333     Private room                f  11.592780  \n",
       "6764   83.0  52.302752   5.020968  Entire home/apt                f  11.842162  \n",
       "\n",
       "[14998 rows x 14 columns]"
      ]
     },
     "execution_count": 26,
     "metadata": {},
     "output_type": "execute_result"
    }
   ],
   "source": [
    "ams.sort_values(['distance'],ascending=True)"
   ]
  },
  {
   "cell_type": "code",
   "execution_count": 27,
   "id": "044dea3a",
   "metadata": {},
   "outputs": [],
   "source": [
    "ams=pd.get_dummies(ams)"
   ]
  },
  {
   "cell_type": "code",
   "execution_count": 28,
   "id": "ac945fa7",
   "metadata": {},
   "outputs": [
    {
     "data": {
      "text/html": [
       "<div>\n",
       "<style scoped>\n",
       "    .dataframe tbody tr th:only-of-type {\n",
       "        vertical-align: middle;\n",
       "    }\n",
       "\n",
       "    .dataframe tbody tr th {\n",
       "        vertical-align: top;\n",
       "    }\n",
       "\n",
       "    .dataframe thead th {\n",
       "        text-align: right;\n",
       "    }\n",
       "</style>\n",
       "<table border=\"1\" class=\"dataframe\">\n",
       "  <thead>\n",
       "    <tr style=\"text-align: right;\">\n",
       "      <th></th>\n",
       "      <th>host_listings_count</th>\n",
       "      <th>accommodates</th>\n",
       "      <th>bathrooms</th>\n",
       "      <th>bedrooms</th>\n",
       "      <th>guests_included</th>\n",
       "      <th>minimum_nights</th>\n",
       "      <th>number_of_reviews</th>\n",
       "      <th>calculated_host_listings_count</th>\n",
       "      <th>price</th>\n",
       "      <th>latitude</th>\n",
       "      <th>longitude</th>\n",
       "      <th>distance</th>\n",
       "      <th>room_type_Entire home/apt</th>\n",
       "      <th>room_type_Private room</th>\n",
       "      <th>room_type_Shared room</th>\n",
       "      <th>instant_bookable_f</th>\n",
       "      <th>instant_bookable_t</th>\n",
       "    </tr>\n",
       "  </thead>\n",
       "  <tbody>\n",
       "    <tr>\n",
       "      <th>0</th>\n",
       "      <td>1.0</td>\n",
       "      <td>6</td>\n",
       "      <td>1.0</td>\n",
       "      <td>2.0</td>\n",
       "      <td>1</td>\n",
       "      <td>3</td>\n",
       "      <td>4</td>\n",
       "      <td>1</td>\n",
       "      <td>145.0</td>\n",
       "      <td>52.361173</td>\n",
       "      <td>4.866755</td>\n",
       "      <td>2.987199</td>\n",
       "      <td>1</td>\n",
       "      <td>0</td>\n",
       "      <td>0</td>\n",
       "      <td>1</td>\n",
       "      <td>0</td>\n",
       "    </tr>\n",
       "    <tr>\n",
       "      <th>1</th>\n",
       "      <td>1.0</td>\n",
       "      <td>2</td>\n",
       "      <td>1.0</td>\n",
       "      <td>1.0</td>\n",
       "      <td>1</td>\n",
       "      <td>2</td>\n",
       "      <td>17</td>\n",
       "      <td>1</td>\n",
       "      <td>88.0</td>\n",
       "      <td>52.370237</td>\n",
       "      <td>4.859507</td>\n",
       "      <td>2.885443</td>\n",
       "      <td>1</td>\n",
       "      <td>0</td>\n",
       "      <td>0</td>\n",
       "      <td>1</td>\n",
       "      <td>0</td>\n",
       "    </tr>\n",
       "    <tr>\n",
       "      <th>2</th>\n",
       "      <td>1.0</td>\n",
       "      <td>2</td>\n",
       "      <td>1.0</td>\n",
       "      <td>1.0</td>\n",
       "      <td>2</td>\n",
       "      <td>2</td>\n",
       "      <td>4</td>\n",
       "      <td>1</td>\n",
       "      <td>130.0</td>\n",
       "      <td>52.362016</td>\n",
       "      <td>4.866872</td>\n",
       "      <td>2.919191</td>\n",
       "      <td>1</td>\n",
       "      <td>0</td>\n",
       "      <td>0</td>\n",
       "      <td>1</td>\n",
       "      <td>0</td>\n",
       "    </tr>\n",
       "    <tr>\n",
       "      <th>3</th>\n",
       "      <td>2.0</td>\n",
       "      <td>4</td>\n",
       "      <td>1.0</td>\n",
       "      <td>2.0</td>\n",
       "      <td>2</td>\n",
       "      <td>4</td>\n",
       "      <td>2</td>\n",
       "      <td>2</td>\n",
       "      <td>110.0</td>\n",
       "      <td>52.365826</td>\n",
       "      <td>4.858178</td>\n",
       "      <td>3.168346</td>\n",
       "      <td>1</td>\n",
       "      <td>0</td>\n",
       "      <td>0</td>\n",
       "      <td>1</td>\n",
       "      <td>0</td>\n",
       "    </tr>\n",
       "    <tr>\n",
       "      <th>4</th>\n",
       "      <td>1.0</td>\n",
       "      <td>2</td>\n",
       "      <td>1.0</td>\n",
       "      <td>1.0</td>\n",
       "      <td>1</td>\n",
       "      <td>3</td>\n",
       "      <td>10</td>\n",
       "      <td>1</td>\n",
       "      <td>115.0</td>\n",
       "      <td>52.364179</td>\n",
       "      <td>4.864885</td>\n",
       "      <td>2.876726</td>\n",
       "      <td>1</td>\n",
       "      <td>0</td>\n",
       "      <td>0</td>\n",
       "      <td>1</td>\n",
       "      <td>0</td>\n",
       "    </tr>\n",
       "  </tbody>\n",
       "</table>\n",
       "</div>"
      ],
      "text/plain": [
       "   host_listings_count  accommodates  bathrooms  bedrooms  guests_included  \\\n",
       "0                  1.0             6        1.0       2.0                1   \n",
       "1                  1.0             2        1.0       1.0                1   \n",
       "2                  1.0             2        1.0       1.0                2   \n",
       "3                  2.0             4        1.0       2.0                2   \n",
       "4                  1.0             2        1.0       1.0                1   \n",
       "\n",
       "   minimum_nights  number_of_reviews  calculated_host_listings_count  price  \\\n",
       "0               3                  4                               1  145.0   \n",
       "1               2                 17                               1   88.0   \n",
       "2               2                  4                               1  130.0   \n",
       "3               4                  2                               2  110.0   \n",
       "4               3                 10                               1  115.0   \n",
       "\n",
       "    latitude  longitude  distance  room_type_Entire home/apt  \\\n",
       "0  52.361173   4.866755  2.987199                          1   \n",
       "1  52.370237   4.859507  2.885443                          1   \n",
       "2  52.362016   4.866872  2.919191                          1   \n",
       "3  52.365826   4.858178  3.168346                          1   \n",
       "4  52.364179   4.864885  2.876726                          1   \n",
       "\n",
       "   room_type_Private room  room_type_Shared room  instant_bookable_f  \\\n",
       "0                       0                      0                   1   \n",
       "1                       0                      0                   1   \n",
       "2                       0                      0                   1   \n",
       "3                       0                      0                   1   \n",
       "4                       0                      0                   1   \n",
       "\n",
       "   instant_bookable_t  \n",
       "0                   0  \n",
       "1                   0  \n",
       "2                   0  \n",
       "3                   0  \n",
       "4                   0  "
      ]
     },
     "execution_count": 28,
     "metadata": {},
     "output_type": "execute_result"
    }
   ],
   "source": [
    "ams.head()"
   ]
  },
  {
   "cell_type": "code",
   "execution_count": 29,
   "id": "7a1362a6",
   "metadata": {},
   "outputs": [],
   "source": [
    "x=ams.drop(['price'],axis=1)\n",
    "y=ams['price']"
   ]
  },
  {
   "cell_type": "code",
   "execution_count": 30,
   "id": "6f795857",
   "metadata": {
    "scrolled": true
   },
   "outputs": [
    {
     "data": {
      "text/html": [
       "<div>\n",
       "<style scoped>\n",
       "    .dataframe tbody tr th:only-of-type {\n",
       "        vertical-align: middle;\n",
       "    }\n",
       "\n",
       "    .dataframe tbody tr th {\n",
       "        vertical-align: top;\n",
       "    }\n",
       "\n",
       "    .dataframe thead th {\n",
       "        text-align: right;\n",
       "    }\n",
       "</style>\n",
       "<table border=\"1\" class=\"dataframe\">\n",
       "  <thead>\n",
       "    <tr style=\"text-align: right;\">\n",
       "      <th></th>\n",
       "      <th>host_listings_count</th>\n",
       "      <th>accommodates</th>\n",
       "      <th>bathrooms</th>\n",
       "      <th>bedrooms</th>\n",
       "      <th>guests_included</th>\n",
       "      <th>minimum_nights</th>\n",
       "      <th>number_of_reviews</th>\n",
       "      <th>calculated_host_listings_count</th>\n",
       "      <th>latitude</th>\n",
       "      <th>longitude</th>\n",
       "      <th>distance</th>\n",
       "      <th>room_type_Entire home/apt</th>\n",
       "      <th>room_type_Private room</th>\n",
       "      <th>room_type_Shared room</th>\n",
       "      <th>instant_bookable_f</th>\n",
       "      <th>instant_bookable_t</th>\n",
       "    </tr>\n",
       "  </thead>\n",
       "  <tbody>\n",
       "    <tr>\n",
       "      <th>0</th>\n",
       "      <td>1.0</td>\n",
       "      <td>6</td>\n",
       "      <td>1.0</td>\n",
       "      <td>2.0</td>\n",
       "      <td>1</td>\n",
       "      <td>3</td>\n",
       "      <td>4</td>\n",
       "      <td>1</td>\n",
       "      <td>52.361173</td>\n",
       "      <td>4.866755</td>\n",
       "      <td>2.987199</td>\n",
       "      <td>1</td>\n",
       "      <td>0</td>\n",
       "      <td>0</td>\n",
       "      <td>1</td>\n",
       "      <td>0</td>\n",
       "    </tr>\n",
       "    <tr>\n",
       "      <th>1</th>\n",
       "      <td>1.0</td>\n",
       "      <td>2</td>\n",
       "      <td>1.0</td>\n",
       "      <td>1.0</td>\n",
       "      <td>1</td>\n",
       "      <td>2</td>\n",
       "      <td>17</td>\n",
       "      <td>1</td>\n",
       "      <td>52.370237</td>\n",
       "      <td>4.859507</td>\n",
       "      <td>2.885443</td>\n",
       "      <td>1</td>\n",
       "      <td>0</td>\n",
       "      <td>0</td>\n",
       "      <td>1</td>\n",
       "      <td>0</td>\n",
       "    </tr>\n",
       "    <tr>\n",
       "      <th>2</th>\n",
       "      <td>1.0</td>\n",
       "      <td>2</td>\n",
       "      <td>1.0</td>\n",
       "      <td>1.0</td>\n",
       "      <td>2</td>\n",
       "      <td>2</td>\n",
       "      <td>4</td>\n",
       "      <td>1</td>\n",
       "      <td>52.362016</td>\n",
       "      <td>4.866872</td>\n",
       "      <td>2.919191</td>\n",
       "      <td>1</td>\n",
       "      <td>0</td>\n",
       "      <td>0</td>\n",
       "      <td>1</td>\n",
       "      <td>0</td>\n",
       "    </tr>\n",
       "    <tr>\n",
       "      <th>3</th>\n",
       "      <td>2.0</td>\n",
       "      <td>4</td>\n",
       "      <td>1.0</td>\n",
       "      <td>2.0</td>\n",
       "      <td>2</td>\n",
       "      <td>4</td>\n",
       "      <td>2</td>\n",
       "      <td>2</td>\n",
       "      <td>52.365826</td>\n",
       "      <td>4.858178</td>\n",
       "      <td>3.168346</td>\n",
       "      <td>1</td>\n",
       "      <td>0</td>\n",
       "      <td>0</td>\n",
       "      <td>1</td>\n",
       "      <td>0</td>\n",
       "    </tr>\n",
       "    <tr>\n",
       "      <th>4</th>\n",
       "      <td>1.0</td>\n",
       "      <td>2</td>\n",
       "      <td>1.0</td>\n",
       "      <td>1.0</td>\n",
       "      <td>1</td>\n",
       "      <td>3</td>\n",
       "      <td>10</td>\n",
       "      <td>1</td>\n",
       "      <td>52.364179</td>\n",
       "      <td>4.864885</td>\n",
       "      <td>2.876726</td>\n",
       "      <td>1</td>\n",
       "      <td>0</td>\n",
       "      <td>0</td>\n",
       "      <td>1</td>\n",
       "      <td>0</td>\n",
       "    </tr>\n",
       "  </tbody>\n",
       "</table>\n",
       "</div>"
      ],
      "text/plain": [
       "   host_listings_count  accommodates  bathrooms  bedrooms  guests_included  \\\n",
       "0                  1.0             6        1.0       2.0                1   \n",
       "1                  1.0             2        1.0       1.0                1   \n",
       "2                  1.0             2        1.0       1.0                2   \n",
       "3                  2.0             4        1.0       2.0                2   \n",
       "4                  1.0             2        1.0       1.0                1   \n",
       "\n",
       "   minimum_nights  number_of_reviews  calculated_host_listings_count  \\\n",
       "0               3                  4                               1   \n",
       "1               2                 17                               1   \n",
       "2               2                  4                               1   \n",
       "3               4                  2                               2   \n",
       "4               3                 10                               1   \n",
       "\n",
       "    latitude  longitude  distance  room_type_Entire home/apt  \\\n",
       "0  52.361173   4.866755  2.987199                          1   \n",
       "1  52.370237   4.859507  2.885443                          1   \n",
       "2  52.362016   4.866872  2.919191                          1   \n",
       "3  52.365826   4.858178  3.168346                          1   \n",
       "4  52.364179   4.864885  2.876726                          1   \n",
       "\n",
       "   room_type_Private room  room_type_Shared room  instant_bookable_f  \\\n",
       "0                       0                      0                   1   \n",
       "1                       0                      0                   1   \n",
       "2                       0                      0                   1   \n",
       "3                       0                      0                   1   \n",
       "4                       0                      0                   1   \n",
       "\n",
       "   instant_bookable_t  \n",
       "0                   0  \n",
       "1                   0  \n",
       "2                   0  \n",
       "3                   0  \n",
       "4                   0  "
      ]
     },
     "execution_count": 30,
     "metadata": {},
     "output_type": "execute_result"
    }
   ],
   "source": [
    "x.head()"
   ]
  },
  {
   "cell_type": "code",
   "execution_count": 31,
   "id": "2a5927cb",
   "metadata": {},
   "outputs": [
    {
     "data": {
      "text/plain": [
       "(14998, 16)"
      ]
     },
     "execution_count": 31,
     "metadata": {},
     "output_type": "execute_result"
    }
   ],
   "source": [
    "x.shape"
   ]
  },
  {
   "cell_type": "code",
   "execution_count": 32,
   "id": "f02b828d",
   "metadata": {},
   "outputs": [
    {
     "data": {
      "text/plain": [
       "0    145.0\n",
       "1     88.0\n",
       "2    130.0\n",
       "3    110.0\n",
       "4    115.0\n",
       "Name: price, dtype: float64"
      ]
     },
     "execution_count": 32,
     "metadata": {},
     "output_type": "execute_result"
    }
   ],
   "source": [
    "y.head()"
   ]
  },
  {
   "cell_type": "code",
   "execution_count": 33,
   "id": "1f9f7fdb",
   "metadata": {},
   "outputs": [],
   "source": [
    "from sklearn.model_selection import train_test_split"
   ]
  },
  {
   "cell_type": "code",
   "execution_count": 34,
   "id": "2a2e4819",
   "metadata": {},
   "outputs": [],
   "source": [
    "x_train,x_test,y_train,y_test=train_test_split(x,y,test_size=0.3,random_state=200)"
   ]
  },
  {
   "cell_type": "code",
   "execution_count": 35,
   "id": "e9ce4d5d",
   "metadata": {},
   "outputs": [
    {
     "data": {
      "text/plain": [
       "(10498, 16)"
      ]
     },
     "execution_count": 35,
     "metadata": {},
     "output_type": "execute_result"
    }
   ],
   "source": [
    "x_train.shape"
   ]
  },
  {
   "cell_type": "code",
   "execution_count": 36,
   "id": "170862b4",
   "metadata": {},
   "outputs": [
    {
     "data": {
      "text/plain": [
       "(4500, 16)"
      ]
     },
     "execution_count": 36,
     "metadata": {},
     "output_type": "execute_result"
    }
   ],
   "source": [
    "x_test.shape"
   ]
  },
  {
   "cell_type": "code",
   "execution_count": 37,
   "id": "d296d996",
   "metadata": {},
   "outputs": [],
   "source": [
    "from sklearn.ensemble import RandomForestRegressor"
   ]
  },
  {
   "cell_type": "code",
   "execution_count": 38,
   "id": "b60207ab",
   "metadata": {},
   "outputs": [
    {
     "name": "stdout",
     "output_type": "stream",
     "text": [
      "For n_estimators = 30\n",
      "OOB score is 0.4865044713159379\n",
      "************************\n",
      "For n_estimators = 40\n",
      "OOB score is 0.4877080324519447\n",
      "************************\n",
      "For n_estimators = 50\n",
      "OOB score is 0.4876495913188822\n",
      "************************\n",
      "For n_estimators = 60\n",
      "OOB score is 0.4885340209152782\n",
      "************************\n",
      "For n_estimators = 70\n",
      "OOB score is 0.4886361951738354\n",
      "************************\n",
      "For n_estimators = 80\n",
      "OOB score is 0.4897374631564211\n",
      "************************\n",
      "For n_estimators = 90\n",
      "OOB score is 0.48979991882977525\n",
      "************************\n",
      "For n_estimators = 100\n",
      "OOB score is 0.48964552503183356\n",
      "************************\n",
      "For n_estimators = 110\n",
      "OOB score is 0.489839071312162\n",
      "************************\n",
      "For n_estimators = 120\n",
      "OOB score is 0.4901398460296442\n",
      "************************\n",
      "For n_estimators = 130\n",
      "OOB score is 0.4913226406753376\n",
      "************************\n",
      "For n_estimators = 140\n",
      "OOB score is 0.49089158535610977\n",
      "************************\n",
      "For n_estimators = 150\n",
      "OOB score is 0.4908548722625431\n",
      "************************\n",
      "For n_estimators = 160\n",
      "OOB score is 0.4912309821734291\n",
      "************************\n",
      "For n_estimators = 170\n",
      "OOB score is 0.4917213021321053\n",
      "************************\n",
      "For n_estimators = 180\n",
      "OOB score is 0.49226928592696717\n",
      "************************\n",
      "For n_estimators = 190\n",
      "OOB score is 0.4924719277313472\n",
      "************************\n",
      "For n_estimators = 200\n",
      "OOB score is 0.492879602753469\n",
      "************************\n",
      "For n_estimators = 210\n",
      "OOB score is 0.4931163397536942\n",
      "************************\n",
      "For n_estimators = 220\n",
      "OOB score is 0.4935544480519082\n",
      "************************\n",
      "For n_estimators = 230\n",
      "OOB score is 0.49363477099504127\n",
      "************************\n",
      "For n_estimators = 240\n",
      "OOB score is 0.4939487514640556\n",
      "************************\n",
      "For n_estimators = 250\n",
      "OOB score is 0.4940473464870182\n",
      "************************\n",
      "For n_estimators = 260\n",
      "OOB score is 0.49427104010975087\n",
      "************************\n",
      "For n_estimators = 270\n",
      "OOB score is 0.4941800004138227\n",
      "************************\n",
      "For n_estimators = 280\n",
      "OOB score is 0.4943144372615751\n",
      "************************\n",
      "For n_estimators = 290\n",
      "OOB score is 0.49443488149108894\n",
      "************************\n",
      "For n_estimators = 300\n",
      "OOB score is 0.49439904334071993\n",
      "************************\n",
      "For n_estimators = 310\n",
      "OOB score is 0.4943966212692473\n",
      "************************\n",
      "For n_estimators = 320\n",
      "OOB score is 0.494466605001864\n",
      "************************\n",
      "For n_estimators = 330\n",
      "OOB score is 0.4946676165380386\n",
      "************************\n",
      "For n_estimators = 340\n",
      "OOB score is 0.4944033468806187\n",
      "************************\n",
      "For n_estimators = 350\n",
      "OOB score is 0.4941159921760082\n",
      "************************\n",
      "For n_estimators = 360\n",
      "OOB score is 0.4942038278425488\n",
      "************************\n",
      "For n_estimators = 370\n",
      "OOB score is 0.4941305358351843\n",
      "************************\n",
      "For n_estimators = 380\n",
      "OOB score is 0.4941175058847618\n",
      "************************\n",
      "For n_estimators = 390\n",
      "OOB score is 0.4941090355076485\n",
      "************************\n",
      "For n_estimators = 400\n",
      "OOB score is 0.4940135685769318\n",
      "************************\n",
      "For n_estimators = 410\n",
      "OOB score is 0.4941464360838391\n",
      "************************\n",
      "For n_estimators = 420\n",
      "OOB score is 0.49398818397155353\n",
      "************************\n",
      "For n_estimators = 430\n",
      "OOB score is 0.49412334412602743\n",
      "************************\n",
      "For n_estimators = 440\n",
      "OOB score is 0.4941822327621267\n",
      "************************\n",
      "For n_estimators = 450\n",
      "OOB score is 0.4942235552881967\n",
      "************************\n",
      "For n_estimators = 460\n",
      "OOB score is 0.4943422133551294\n",
      "************************\n",
      "For n_estimators = 470\n",
      "OOB score is 0.49417889812650706\n",
      "************************\n",
      "For n_estimators = 480\n",
      "OOB score is 0.49420460043894865\n",
      "************************\n",
      "For n_estimators = 490\n",
      "OOB score is 0.4941458527480552\n",
      "************************\n",
      "For n_estimators = 500\n",
      "OOB score is 0.494309125055289\n",
      "************************\n",
      "For n_estimators = 510\n",
      "OOB score is 0.4943777672744022\n",
      "************************\n",
      "For n_estimators = 520\n",
      "OOB score is 0.49432920290017845\n",
      "************************\n",
      "For n_estimators = 530\n",
      "OOB score is 0.4943633689908731\n",
      "************************\n",
      "For n_estimators = 540\n",
      "OOB score is 0.49451716738894147\n",
      "************************\n",
      "For n_estimators = 550\n",
      "OOB score is 0.4945420430089873\n",
      "************************\n",
      "For n_estimators = 560\n",
      "OOB score is 0.4945955386568255\n",
      "************************\n",
      "For n_estimators = 570\n",
      "OOB score is 0.49448995233232595\n",
      "************************\n",
      "For n_estimators = 580\n",
      "OOB score is 0.49451209334328594\n",
      "************************\n",
      "For n_estimators = 590\n",
      "OOB score is 0.49455883857188887\n",
      "************************\n",
      "For n_estimators = 600\n",
      "OOB score is 0.4946756305653701\n",
      "************************\n"
     ]
    }
   ],
   "source": [
    "for i in range(30,610,10):\n",
    "    reg=RandomForestRegressor(n_estimators=i,max_depth=5,max_features='sqrt',oob_score=True,random_state=200)\n",
    "    reg.fit(x_train,y_train)\n",
    "    oob=reg.oob_score_\n",
    "    print('For n_estimators = '+str(i))\n",
    "    print('OOB score is '+str(oob))\n",
    "    print('************************')"
   ]
  },
  {
   "cell_type": "code",
   "execution_count": 39,
   "id": "8217ca88",
   "metadata": {},
   "outputs": [
    {
     "data": {
      "text/plain": [
       "2185.047746626844"
      ]
     },
     "execution_count": 39,
     "metadata": {},
     "output_type": "execute_result"
    }
   ],
   "source": [
    "from sklearn import metrics\n",
    "metrics.mean_squared_error(y_test,reg.predict(x_test))"
   ]
  },
  {
   "cell_type": "code",
   "execution_count": 40,
   "id": "d3a09d84",
   "metadata": {},
   "outputs": [
    {
     "data": {
      "text/plain": [
       "RandomForestRegressor(max_depth=5, max_features='sqrt', n_estimators=330,\n",
       "                      oob_score=True)"
      ]
     },
     "execution_count": 40,
     "metadata": {},
     "output_type": "execute_result"
    }
   ],
   "source": [
    "reg=RandomForestRegressor(n_estimators=330,max_depth=5,max_features='sqrt',oob_score=True)\n",
    "reg.fit(x_train,y_train)"
   ]
  },
  {
   "cell_type": "code",
   "execution_count": 42,
   "id": "f0022943",
   "metadata": {},
   "outputs": [
    {
     "data": {
      "text/plain": [
       "0.46763927744506906"
      ]
     },
     "execution_count": 42,
     "metadata": {},
     "output_type": "execute_result"
    }
   ],
   "source": [
    "reg.score(x_test,y_test)"
   ]
  },
  {
   "cell_type": "code",
   "execution_count": 43,
   "id": "7f87d78f",
   "metadata": {},
   "outputs": [
    {
     "data": {
      "text/plain": [
       "0.4938117270517288"
      ]
     },
     "execution_count": 43,
     "metadata": {},
     "output_type": "execute_result"
    }
   ],
   "source": [
    "reg.oob_score_"
   ]
  },
  {
   "cell_type": "code",
   "execution_count": 44,
   "id": "00e73719",
   "metadata": {},
   "outputs": [
    {
     "data": {
      "text/plain": [
       "array([7.54990405e-03, 3.19300441e-01, 6.93772378e-02, 2.34052670e-01,\n",
       "       8.48180398e-02, 4.15023596e-03, 4.11603370e-03, 1.36786588e-02,\n",
       "       1.77521607e-02, 3.07761935e-02, 5.98982429e-02, 8.63461475e-02,\n",
       "       6.71421285e-02, 1.74698001e-04, 4.36283168e-04, 4.30923788e-04])"
      ]
     },
     "execution_count": 44,
     "metadata": {},
     "output_type": "execute_result"
    }
   ],
   "source": [
    "reg.feature_importances_"
   ]
  },
  {
   "cell_type": "code",
   "execution_count": 45,
   "id": "664949b7",
   "metadata": {},
   "outputs": [],
   "source": [
    "imp_feat=pd.Series(reg.feature_importances_,index=x.columns.tolist())"
   ]
  },
  {
   "cell_type": "code",
   "execution_count": 46,
   "id": "37225275",
   "metadata": {},
   "outputs": [
    {
     "data": {
      "text/plain": [
       "accommodates                      0.319300\n",
       "bedrooms                          0.234053\n",
       "room_type_Entire home/apt         0.086346\n",
       "guests_included                   0.084818\n",
       "bathrooms                         0.069377\n",
       "room_type_Private room            0.067142\n",
       "distance                          0.059898\n",
       "longitude                         0.030776\n",
       "latitude                          0.017752\n",
       "calculated_host_listings_count    0.013679\n",
       "host_listings_count               0.007550\n",
       "minimum_nights                    0.004150\n",
       "number_of_reviews                 0.004116\n",
       "instant_bookable_f                0.000436\n",
       "instant_bookable_t                0.000431\n",
       "room_type_Shared room             0.000175\n",
       "dtype: float64"
      ]
     },
     "execution_count": 46,
     "metadata": {},
     "output_type": "execute_result"
    }
   ],
   "source": [
    "imp_feat.sort_values(ascending=False)"
   ]
  },
  {
   "cell_type": "code",
   "execution_count": 47,
   "id": "da0a0ea6",
   "metadata": {},
   "outputs": [
    {
     "data": {
      "text/plain": [
       "array([133.98501947, 186.40106272, 113.43498238, ...,  71.99289694,\n",
       "       119.94474371, 155.95099541])"
      ]
     },
     "execution_count": 47,
     "metadata": {},
     "output_type": "execute_result"
    }
   ],
   "source": [
    "pred=reg.predict(x_test)\n",
    "pred"
   ]
  },
  {
   "cell_type": "code",
   "execution_count": 48,
   "id": "0d8d43f7",
   "metadata": {},
   "outputs": [],
   "source": [
    "y=pd.DataFrame(ams['price'])"
   ]
  },
  {
   "cell_type": "code",
   "execution_count": 49,
   "id": "982aae01",
   "metadata": {},
   "outputs": [],
   "source": [
    "Errors=y_test-pred"
   ]
  },
  {
   "cell_type": "code",
   "execution_count": 50,
   "id": "1c2fb8cf",
   "metadata": {},
   "outputs": [
    {
     "data": {
      "text/plain": [
       "11457    16.014981\n",
       "6421     63.598937\n",
       "9464     11.565018\n",
       "5624    -41.766272\n",
       "7937    -31.001935\n",
       "Name: price, dtype: float64"
      ]
     },
     "execution_count": 50,
     "metadata": {},
     "output_type": "execute_result"
    }
   ],
   "source": [
    "Errors.head()"
   ]
  },
  {
   "cell_type": "code",
   "execution_count": 51,
   "id": "e15a0ac6",
   "metadata": {},
   "outputs": [
    {
     "data": {
      "text/plain": [
       "<matplotlib.collections.PathCollection at 0x1c3605a6730>"
      ]
     },
     "execution_count": 51,
     "metadata": {},
     "output_type": "execute_result"
    },
    {
     "data": {
      "image/png": "[encoded data removed]",
      "text/plain": [
       "<Figure size 432x288 with 1 Axes>"
      ]
     },
     "metadata": {
      "needs_background": "light"
     },
     "output_type": "display_data"
    }
   ],
   "source": [
    "plt.scatter(y_test,Errors,alpha=0.5)"
   ]
  },
  {
   "cell_type": "code",
   "execution_count": null,
   "id": "a62e74bd",
   "metadata": {},
   "outputs": [],
   "source": []
  }
 ],
 "metadata": {
  "kernelspec": {
   "display_name": "Python 3 (ipykernel)",
   "language": "python",
   "name": "python3"
  },
  "language_info": {
   "codemirror_mode": {
    "name": "ipython",
    "version": 3
   },
   "file_extension": ".py",
   "mimetype": "text/x-python",
   "name": "python",
   "nbconvert_exporter": "python",
   "pygments_lexer": "ipython3",
   "version": "3.9.7"
  }
 },
 "nbformat": 4,
 "nbformat_minor": 5
}
